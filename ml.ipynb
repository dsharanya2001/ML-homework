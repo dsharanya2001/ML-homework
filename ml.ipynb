{
  "nbformat": 4,
  "nbformat_minor": 0,
  "metadata": {
    "colab": {
      "provenance": [],
      "authorship_tag": "ABX9TyMrh/hZGy4GgdKZBf1y6UTt",
      "include_colab_link": true
    },
    "kernelspec": {
      "name": "python3",
      "display_name": "Python 3"
    },
    "language_info": {
      "name": "python"
    }
  },
  "cells": [
    {
      "cell_type": "markdown",
      "metadata": {
        "id": "view-in-github",
        "colab_type": "text"
      },
      "source": [
        "<a href=\"https://colab.research.google.com/github/dsharanya2001/ML-homework/blob/main/ml.ipynb\" target=\"_parent\"><img src=\"https://colab.research.google.com/assets/colab-badge.svg\" alt=\"Open In Colab\"/></a>"
      ]
    },
    {
      "cell_type": "code",
      "source": [],
      "metadata": {
        "id": "m8I97FyCNKDZ"
      },
      "execution_count": null,
      "outputs": []
    },
    {
      "cell_type": "code",
      "execution_count": 24,
      "metadata": {
        "colab": {
          "base_uri": "https://localhost:8080/"
        },
        "id": "FoLQIEQR5BcK",
        "outputId": "cfad0e0a-432e-43db-9ec3-0e6ff24dd2fe"
      },
      "outputs": [
        {
          "output_type": "stream",
          "name": "stdout",
          "text": [
            "Enter number of points :4\n",
            "Vector1 : [0.68244875 0.6019311  0.07142628 0.70517955] Vector2 : [0.50802366 0.87440065 0.07879082 0.7678498 ]\n",
            "correlation : [[1.         0.85447674]\n",
            " [0.85447674 1.        ]]\n",
            "Cosine Similarity : 0.9677847109395167\n",
            "Euclidean Dist : 0.3296142687309884\n"
          ]
        }
      ],
      "source": [
        "#@title Using Numpy in Python\n",
        "import numpy as np\n",
        "No_of_Elements = int(input(\"Enter number of points :\"))\n",
        "\n",
        "vec1 = np.random.rand(No_of_Elements)\n",
        "vec2 = np.random.rand(No_of_Elements)\n",
        "print(\"Vector1 : {} Vector2 : {}\".format(vec1,vec2))\n",
        "\n",
        "# Calculating Coefficient\n",
        "correlation_coefficient = np.corrcoef(vec1, vec2)\n",
        "print(\"correlation : {}\".format(correlation_coefficient))\n",
        "\n",
        "# Calculating Cosine similarity\n",
        "dot_value = np.dot(vec1, vec2)\n",
        "norm_vector1 = np.linalg.norm(vec1)\n",
        "norm_vector2 = np.linalg.norm(vec2)\n",
        "cosine_similarity = dot_value / (norm_vector1 * norm_vector2)\n",
        "print(\"Cosine Similarity : {}\".format(cosine_similarity))\n",
        "\n",
        "# Calculating Euclidean Distance\n",
        "euclidean_distance = np.linalg.norm(vec1- vec2)\n",
        "print(\"Euclidean Dist : {}\".format(euclidean_distance))"
      ]
    },
    {
      "cell_type": "code",
      "source": [
        "#@title Using Scipy in Python\n",
        "import numpy as np\n",
        "from scipy.spatial import distance\n",
        "import scipy.stats\n",
        "num = int(input(\"Enter number of points :\"))\n",
        "vec1 = np.random.rand(num)\n",
        "vec2 = np.random.rand(num)\n",
        "print(\"Vector1 : {} Vector2 : {}\".format(vec1,vec2))\n",
        "\n",
        "#Correlation\n",
        "correlation_val = scipy.stats.pearsonr(vec1,vec2)\n",
        "print(\"Correlation : {}\".format(correlation_val[0]))\n",
        "\n",
        "#Euclidean\n",
        "print(\"Euclidean_Dist : {}\".format(distance.euclidean(vec1,vec2)))\n",
        "\n",
        "#cosine similarity\n",
        "print(\"Cosine_Similarity : {}\".format(distance.cosine(vec1,vec2)))\n"
      ],
      "metadata": {
        "colab": {
          "base_uri": "https://localhost:8080/"
        },
        "id": "kiOjCrLN5fkb",
        "outputId": "18972eda-079f-4b12-9069-ae297579ff8c"
      },
      "execution_count": 25,
      "outputs": [
        {
          "output_type": "stream",
          "name": "stdout",
          "text": [
            "Enter number of points :3\n",
            "Vector1 : [0.42661972 0.05907479 0.7707664 ] Vector2 : [0.46412346 0.00197431 0.23284458]\n",
            "Correlation : 0.5159082316844302\n",
            "Euclidean_Dist : 0.5422424598007579\n",
            "Cosine_Similarity : 0.17641939428521425\n"
          ]
        }
      ]
    },
    {
      "cell_type": "code",
      "source": [
        "#@title Using Pandas in Python\n",
        "import pandas as pd\n",
        "vec1 = np.random.rand(No_of_Elements)\n",
        "vec2 = np.random.rand(No_of_Elements)\n",
        "x = pd.Series(vec1)\n",
        "y = pd.Series(vec2)\n",
        "\n",
        "#correlation\n",
        "print(x.corr(y))\n",
        "print(y.corr(x))"
      ],
      "metadata": {
        "colab": {
          "base_uri": "https://localhost:8080/"
        },
        "id": "yN9uKsth5iuQ",
        "outputId": "934f0b01-7033-4fda-8710-c62b1f3a8f71"
      },
      "execution_count": 26,
      "outputs": [
        {
          "output_type": "stream",
          "name": "stdout",
          "text": [
            "0.9068677272983349\n",
            "0.9068677272983349\n"
          ]
        }
      ]
    }
  ]
}